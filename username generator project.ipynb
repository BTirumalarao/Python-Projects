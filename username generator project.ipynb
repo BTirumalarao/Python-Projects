{
 "cells": [
  {
   "cell_type": "code",
   "execution_count": 9,
   "id": "3e441545-da35-47ab-a5ae-ba047c7fe570",
   "metadata": {},
   "outputs": [],
   "source": [
    "\n",
    "# -------------- USER NAME GENERATOR PROJECT-------------\n"
   ]
  },
  {
   "cell_type": "code",
   "execution_count": 14,
   "id": "3c2740ba-d6c0-4d34-b0af-147e0016d2cd",
   "metadata": {},
   "outputs": [
    {
     "name": "stdin",
     "output_type": "stream",
     "text": [
      "Enter your name: Tiru\n",
      "Enter your nick name: sunny\n"
     ]
    },
    {
     "name": "stdout",
     "output_type": "stream",
     "text": [
      "Tiru_sunny\n"
     ]
    }
   ],
   "source": [
    "#Ask user for firstname and nickname\n",
    "first_name=input(\"Enter your name:\")\n",
    "nick_name=input(\"Enter your nick name:\")\n",
    "\n",
    "#Combine the name using an Underscore(_)\n",
    "combined_name=first_name + \"_\"+ nick_name\n",
    "\n",
    "#Display the username\n",
    "print(combined_name)"
   ]
  },
  {
   "cell_type": "code",
   "execution_count": null,
   "id": "35e4d36e-ae59-4e7b-89ee-2ecc3594445d",
   "metadata": {},
   "outputs": [],
   "source": []
  },
  {
   "cell_type": "code",
   "execution_count": null,
   "id": "0f515fe0-a0cb-4783-80a6-45f3af04a30b",
   "metadata": {},
   "outputs": [],
   "source": []
  },
  {
   "cell_type": "code",
   "execution_count": null,
   "id": "2211fb65-20f7-4e79-ab82-e1700b8a3c9b",
   "metadata": {},
   "outputs": [],
   "source": []
  }
 ],
 "metadata": {
  "kernelspec": {
   "display_name": "Python 3 (ipykernel)",
   "language": "python",
   "name": "python3"
  },
  "language_info": {
   "codemirror_mode": {
    "name": "ipython",
    "version": 3
   },
   "file_extension": ".py",
   "mimetype": "text/x-python",
   "name": "python",
   "nbconvert_exporter": "python",
   "pygments_lexer": "ipython3",
   "version": "3.12.4"
  }
 },
 "nbformat": 4,
 "nbformat_minor": 5
}
