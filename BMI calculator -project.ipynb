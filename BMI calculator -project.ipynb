{
 "cells": [
  {
   "cell_type": "code",
   "execution_count": 1,
   "id": "2810c475-a069-4c8d-b2d8-83dafbdddb4b",
   "metadata": {},
   "outputs": [],
   "source": [
    "\n",
    "#--------------BMI CALCULATOR PROJECT-----------------\n"
   ]
  },
  {
   "cell_type": "code",
   "execution_count": 5,
   "id": "28cda792-4da3-4e31-b15a-40d5b2bcab51",
   "metadata": {},
   "outputs": [
    {
     "name": "stdin",
     "output_type": "stream",
     "text": [
      "Enter your Height ib Meters : 5.8\n",
      "Enter your Weight in Kg : 48\n"
     ]
    },
    {
     "name": "stdout",
     "output_type": "stream",
     "text": [
      "Your are underweight\n"
     ]
    }
   ],
   "source": [
    "# print(\"-----Welcome to Bmi calculator------\")\n",
    "\n",
    "#input weight and height\n",
    "height=float(input(\"Enter your Height ib Meters :\"))\n",
    "weight=float(input(\"Enter your Weight in Kg :\"))\n",
    "\n",
    "# Take Bmi formula\n",
    "bmi=weight/(height**2)\n",
    "\n",
    "if bmi<18.5:\n",
    "    print(\"Your are underweight\")\n",
    "elif bmi>18.5 and bmi<25:\n",
    "    print(\"Your are normalweight\")\n",
    "else:\n",
    "    print(\" Your areOver weight\")\n"
   ]
  },
  {
   "cell_type": "code",
   "execution_count": null,
   "id": "33fc2bc3-844e-4113-ae5e-4d0c912a103f",
   "metadata": {},
   "outputs": [],
   "source": []
  }
 ],
 "metadata": {
  "kernelspec": {
   "display_name": "Python 3 (ipykernel)",
   "language": "python",
   "name": "python3"
  },
  "language_info": {
   "codemirror_mode": {
    "name": "ipython",
    "version": 3
   },
   "file_extension": ".py",
   "mimetype": "text/x-python",
   "name": "python",
   "nbconvert_exporter": "python",
   "pygments_lexer": "ipython3",
   "version": "3.12.4"
  }
 },
 "nbformat": 4,
 "nbformat_minor": 5
}
